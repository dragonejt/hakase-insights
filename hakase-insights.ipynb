{
 "cells": [
  {
   "cell_type": "code",
   "execution_count": 20,
   "metadata": {},
   "outputs": [
    {
     "data": {
      "text/plain": [
       "True"
      ]
     },
     "execution_count": 20,
     "metadata": {},
     "output_type": "execute_result"
    }
   ],
   "source": [
    "from os import getenv\n",
    "from datetime import datetime, timezone\n",
    "from dotenv import load_dotenv\n",
    "from langchain_core.tools import tool\n",
    "from langchain_core.messages import HumanMessage\n",
    "from langchain_community.chat_models.cloudflare_workersai import ChatCloudflareWorkersAI\n",
    "\n",
    "load_dotenv()"
   ]
  },
  {
   "cell_type": "code",
   "execution_count": 21,
   "metadata": {},
   "outputs": [],
   "source": [
    "llm = ChatCloudflareWorkersAI(\n",
    "    account_id=getenv(\"CLOUDFLARE_ACCOUNT_ID\"),\n",
    "    api_token=getenv(\"CLOUDFLARE_API_TOKEN\"),\n",
    "    model=\"@hf/nousresearch/hermes-2-pro-mistral-7b\",\n",
    ")"
   ]
  },
  {
   "cell_type": "code",
   "execution_count": 22,
   "metadata": {},
   "outputs": [],
   "source": [
    "@tool\n",
    "def date_time() -> str:\n",
    "    \"\"\"\n",
    "    Function Name: date_time\n",
    "    Parameters: None\n",
    "    Description: Returns the current UTC date and time in ISO format.\n",
    "    \"\"\"\n",
    "    return datetime.now(timezone.utc).isoformat()\n",
    "\n",
    "tools = {\n",
    "    \"date_time\": date_time\n",
    "}\n",
    "\n",
    "llm = llm.bind_tools(tools.values())"
   ]
  },
  {
   "cell_type": "code",
   "execution_count": 23,
   "metadata": {},
   "outputs": [
    {
     "name": "stderr",
     "output_type": "stream",
     "text": [
      "2025-03-23 21:42:35 - INFO - Sending prompt to Cloudflare Workers AI: {'prompt': 'role: user, content: Using the date_time tool, what is the current date?', 'tools': [{'type': 'function', 'function': {'name': 'date_time', 'description': 'Function Name: date_time\\nParameters: None\\nDescription: Returns the current UTC date and time in ISO format.', 'parameters': {'properties': {}, 'type': 'object'}}}]}\n",
      "2025-03-23 21:42:37 - INFO - Sending prompt to Cloudflare Workers AI: {'prompt': \"role: user, content: Using the date_time tool, what is the current date?\\nrole: assistant, content: {'result': {'response': None, 'tool_calls': [{'arguments': {}, 'name': 'date_time'}], 'usage': {'prompt_tokens': 0, 'completion_tokens': 0, 'total_tokens': 0}}, 'success': True, 'errors': [], 'messages': []}, tools: [{'name': 'date_time', 'arguments': {}}]\\nrole: tool, content: 2025-03-24T01:42:37.431549+00:00, tool_call_id: eb031e2e-2c85-49b9-b659-3b01c6a973ea\", 'tools': [{'type': 'function', 'function': {'name': 'date_time', 'description': 'Function Name: date_time\\nParameters: None\\nDescription: Returns the current UTC date and time in ISO format.', 'parameters': {'properties': {}, 'type': 'object'}}}]}\n"
     ]
    },
    {
     "name": "stdout",
     "output_type": "stream",
     "text": [
      "[{'name': 'date_time', 'args': {}, 'id': 'eb031e2e-2c85-49b9-b659-3b01c6a973ea', 'type': 'tool_call'}]\n"
     ]
    },
    {
     "data": {
      "text/plain": [
       "AIMessage(content=\"{'result': {'response': 'The current date, using the date_time tool, is March 24, 2025.', 'usage': {'prompt_tokens': 0, 'completion_tokens': 0, 'total_tokens': 0}}, 'success': True, 'errors': [], 'messages': []}\", additional_kwargs={}, response_metadata={}, id='run-f0c8df42-50ef-498b-8327-29d631d7c5c6-0')"
      ]
     },
     "execution_count": 23,
     "metadata": {},
     "output_type": "execute_result"
    }
   ],
   "source": [
    "\n",
    "\n",
    "query = \"Using the date_time tool, what is the current date?\"\n",
    "\n",
    "messages = [HumanMessage(query)]\n",
    "\n",
    "ai_msg = llm.invoke(messages)\n",
    "\n",
    "print(ai_msg.tool_calls)\n",
    "\n",
    "messages.append(ai_msg)\n",
    "\n",
    "for tool_call in ai_msg.tool_calls:\n",
    "    selected_tool = tools[tool_call[\"name\"].lower()]\n",
    "    tool_msg = selected_tool.invoke(tool_call)\n",
    "    messages.append(tool_msg)\n",
    "\n",
    "llm.invoke(messages)"
   ]
  }
 ],
 "metadata": {
  "kernelspec": {
   "display_name": ".venv",
   "language": "python",
   "name": "python3"
  },
  "language_info": {
   "codemirror_mode": {
    "name": "ipython",
    "version": 3
   },
   "file_extension": ".py",
   "mimetype": "text/x-python",
   "name": "python",
   "nbconvert_exporter": "python",
   "pygments_lexer": "ipython3",
   "version": "3.13.0"
  }
 },
 "nbformat": 4,
 "nbformat_minor": 2
}
