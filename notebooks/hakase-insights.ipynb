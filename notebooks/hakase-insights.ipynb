{
 "cells": [
  {
   "cell_type": "code",
   "execution_count": 2,
   "metadata": {},
   "outputs": [
    {
     "data": {
      "text/plain": [
       "True"
      ]
     },
     "execution_count": 2,
     "metadata": {},
     "output_type": "execute_result"
    }
   ],
   "source": [
    "from os import getenv\n",
    "from datetime import datetime, timezone\n",
    "import json\n",
    "from dotenv import load_dotenv\n",
    "from langchain_core.tools import tool\n",
    "from langchain_core.messages import HumanMessage\n",
    "from langchain_community.chat_models.cloudflare_workersai import ChatCloudflareWorkersAI\n",
    "\n",
    "load_dotenv()"
   ]
  },
  {
   "cell_type": "code",
   "execution_count": 3,
   "metadata": {},
   "outputs": [],
   "source": [
    "llm = ChatCloudflareWorkersAI(\n",
    "    account_id=getenv(\"CF_ACCOUNT_ID\"),\n",
    "    api_token=getenv(\"CF_API_TOKEN\"),\n",
    "    model=\"@hf/nousresearch/hermes-2-pro-mistral-7b\",\n",
    ")"
   ]
  },
  {
   "cell_type": "code",
   "execution_count": 4,
   "metadata": {},
   "outputs": [],
   "source": [
    "@tool\n",
    "def date_time() -> str:\n",
    "    \"\"\"\n",
    "    Function Name: date_time\n",
    "    Parameters: None\n",
    "    Description: Returns the current UTC date and time in ISO format.\n",
    "    \"\"\"\n",
    "    return datetime.now(timezone.utc).isoformat()\n",
    "\n",
    "tools = {\n",
    "    \"date_time\": date_time\n",
    "}\n",
    "\n",
    "llm = llm.bind_tools(tools.values())"
   ]
  },
  {
   "cell_type": "code",
   "execution_count": 5,
   "metadata": {},
   "outputs": [
    {
     "name": "stderr",
     "output_type": "stream",
     "text": [
      "2025-03-29 22:15:41 - INFO - Sending prompt to Cloudflare Workers AI: {'prompt': 'role: user, content: Using the date_time tool, what is the current date?', 'tools': [{'type': 'function', 'function': {'name': 'date_time', 'description': 'Function Name: date_time\\nParameters: None\\nDescription: Returns the current UTC date and time in ISO format.', 'parameters': {'properties': {}, 'type': 'object'}}}]}\n",
      "2025-03-29 22:15:43 - INFO - Sending prompt to Cloudflare Workers AI: {'prompt': \"role: user, content: Using the date_time tool, what is the current date?\\nrole: assistant, content: {'result': {'response': None, 'tool_calls': [{'arguments': {}, 'name': 'date_time'}], 'usage': {'prompt_tokens': 0, 'completion_tokens': 0, 'total_tokens': 0}}, 'success': True, 'errors': [], 'messages': []}, tools: [{'name': 'date_time', 'arguments': {}}]\\nrole: tool, content: 2025-03-30T02:15:43.630162+00:00, tool_call_id: 6acde0d7-a2b8-4b6a-b9a8-140bfeb3db01\", 'tools': [{'type': 'function', 'function': {'name': 'date_time', 'description': 'Function Name: date_time\\nParameters: None\\nDescription: Returns the current UTC date and time in ISO format.', 'parameters': {'properties': {}, 'type': 'object'}}}]}\n"
     ]
    },
    {
     "data": {
      "text/plain": [
       "'the current date, using the date_time tool, is march 30, 2025.'"
      ]
     },
     "execution_count": 5,
     "metadata": {},
     "output_type": "execute_result"
    }
   ],
   "source": [
    "\n",
    "\n",
    "query = \"Using the date_time tool, what is the current date?\"\n",
    "messages = [HumanMessage(query)]\n",
    "\n",
    "ai_msg = llm.invoke(messages)\n",
    "messages.append(ai_msg)\n",
    "\n",
    "for tool_call in ai_msg.tool_calls:\n",
    "    selected_tool = tools[tool_call[\"name\"].lower()]\n",
    "    tool_msg = selected_tool.invoke(tool_call)\n",
    "    messages.append(tool_msg)\n",
    "\n",
    "response = llm.invoke(messages).content\n",
    "json.loads(response.replace(\"'\", '\"').lower())[\"result\"][\"response\"]"
   ]
  },
  {
   "cell_type": "code",
   "execution_count": null,
   "metadata": {},
   "outputs": [],
   "source": []
  }
 ],
 "metadata": {
  "kernelspec": {
   "display_name": ".venv",
   "language": "python",
   "name": "python3"
  },
  "language_info": {
   "codemirror_mode": {
    "name": "ipython",
    "version": 3
   },
   "file_extension": ".py",
   "mimetype": "text/x-python",
   "name": "python",
   "nbconvert_exporter": "python",
   "pygments_lexer": "ipython3",
   "version": "3.13.0"
  }
 },
 "nbformat": 4,
 "nbformat_minor": 2
}
